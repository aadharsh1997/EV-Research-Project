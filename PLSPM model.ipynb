{
 "cells": [
  {
   "cell_type": "code",
   "execution_count": 1,
   "id": "c0e49f18",
   "metadata": {},
   "outputs": [],
   "source": [
    "import pandas as pd, plspm.config as c\n",
    "from plspm.plspm import Plspm\n",
    "from plspm.scheme import Scheme\n",
    "from plspm.mode import Mode"
   ]
  },
  {
   "cell_type": "code",
   "execution_count": 4,
   "id": "2dc18d95",
   "metadata": {},
   "outputs": [
    {
     "name": "stdout",
     "output_type": "stream",
     "text": [
      "<plspm.config.Structure object at 0x000001A28DD61910>\n"
     ]
    }
   ],
   "source": [
    "dataset = pd.read_excel('A:/Aadharsh/University of Calgary/Research Project/survey_responses_2.xlsx', index_col=0)\n",
    "structure = c.Structure()\n",
    "structure.add_path([\"CBM\",\"PSC\",\"SN\",\"S\",\"CC\"],[\"IR\"])\n",
    "print(structure)"
   ]
  },
  {
   "cell_type": "code",
   "execution_count": null,
   "id": "0021adc2",
   "metadata": {},
   "outputs": [],
   "source": [
    "config = c.Config(structure.path(), default_scale=Scale.NUM)\n"
   ]
  }
 ],
 "metadata": {
  "kernelspec": {
   "display_name": "Python 3 (ipykernel)",
   "language": "python",
   "name": "python3"
  },
  "language_info": {
   "codemirror_mode": {
    "name": "ipython",
    "version": 3
   },
   "file_extension": ".py",
   "mimetype": "text/x-python",
   "name": "python",
   "nbconvert_exporter": "python",
   "pygments_lexer": "ipython3",
   "version": "3.8.12"
  }
 },
 "nbformat": 4,
 "nbformat_minor": 5
}
