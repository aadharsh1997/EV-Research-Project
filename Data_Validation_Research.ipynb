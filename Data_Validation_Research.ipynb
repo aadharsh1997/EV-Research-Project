{
 "cells": [
  {
   "cell_type": "code",
   "execution_count": 1,
   "id": "f1beb275",
   "metadata": {},
   "outputs": [],
   "source": [
    "import pandas as pd\n",
    "from factor_analyzer.factor_analyzer import calculate_bartlett_sphericity\n",
    "from factor_analyzer.factor_analyzer import calculate_kmo\n",
    "from scipy import stats\n",
    "from scipy.stats import chi2_contingency"
   ]
  },
  {
   "cell_type": "code",
   "execution_count": 2,
   "id": "ecec4d8e",
   "metadata": {},
   "outputs": [],
   "source": [
    "dataset = pd.read_excel('A:/Aadharsh/University of Calgary/Research Project/survey_responses_2.xlsx')\n",
    "dataset[\"A4. Have you contributed to the Perl/Raku community more episodically or habitually for the last 12 months? The rest of the survey pertains to your experiences in the Perl/Raku community.   \"].replace({\"Episodic\": 0, \"Habitual\": 1}, inplace=True)\n",
    "dataset[\"B1. Please select the area where your main contributions are:\"].replace({\"Both\": 0,\"Code, Programming\":1, \"Other contributions (documentation, translations, tests, artwork...)\": 2}, inplace=True)\n",
    "dataset[\"C1. I am quite similar to most people in my community.\"].replace({\"Strongly agree\": 0, \"Agree\": 1, \"Neither disagree nor agree\": 2, \"Disagree\": 3, \"Strongly disagree\": 4}, inplace=True)\n",
    "dataset[\"C2. If I feel like talking, I can generally find someone in the community to talk to right away.\"].replace({\"Strongly agree\": 0, \"Agree\": 1, \"Neither disagree nor agree\": 2, \"Disagree\": 3, \"Strongly disagree\": 4}, inplace=True)\n",
    "dataset[\"C3. If there was a serious problem in the community, the people could get together to solve it.\"].replace({\"Strongly agree\": 0, \"Agree\": 1, \"Neither disagree nor agree\": 2, \"Disagree\": 3, \"Strongly disagree\": 4}, inplace=True)\n",
    "dataset[\"C4. Other people think that contributing is important to me.\"].replace({\"Strongly agree\": 0, \"Agree\": 1, \"Neither disagree nor agree\": 2, \"Disagree\": 3, \"Strongly disagree\": 4}, inplace=True)\n",
    "dataset[\"C5. It is important to my friends and relatives that I continue contributing.\"].replace({\"Strongly agree\": 0, \"Agree\": 1, \"Neither disagree nor agree\": 2, \"Disagree\": 3, \"Strongly disagree\": 4}, inplace=True)\n",
    "dataset[\"C6. Many of the people that I know expect me to continue as a contributor.\"].replace({\"Strongly agree\": 0, \"Agree\": 1, \"Neither disagree nor agree\": 2, \"Disagree\": 3, \"Strongly disagree\": 4}, inplace=True)\n",
    "dataset[\"C7. No one would really be surprised if I just stopped contributing.\"].replace({\"Strongly agree\": 0, \"Agree\": 1, \"Neither disagree nor agree\": 2, \"Disagree\": 3, \"Strongly disagree\": 4}, inplace=True)\n",
    "dataset[\"C8. I enjoy my contribution experience.\"].replace({\"Strongly agree\": 0, \"Agree\": 1, \"Neither disagree nor agree\": 2, \"Disagree\": 3, \"Strongly disagree\": 4}, inplace=True)\n",
    "dataset[\"C9. My contribution experience is personally fulfilling.\"].replace({\"Strongly agree\": 0, \"Agree\": 1, \"Neither disagree nor agree\": 2, \"Disagree\": 3, \"Strongly disagree\": 4}, inplace=True)\n",
    "dataset[\"C10 My contribution experience is worthwhile.\"].replace({\"Strongly agree\": 0, \"Agree\": 1, \"Neither disagree nor agree\": 2, \"Disagree\": 3, \"Strongly disagree\": 4}, inplace=True)\n",
    "dataset[\"D1. I am likely to continue to contribute to this project.\"].replace({\"Strongly agree\": 0, \"Agree\": 1, \"Neither disagree nor agree\": 2, \"Disagree\": 3, \"Strongly disagree\": 4}, inplace=True)\n",
    "dataset[\"D2. I feel very little loyalty to this community.\"].replace({\"Strongly agree\": 4, \"Agree\": 3, \"Neither disagree nor agree\": 2, \"Disagree\": 1, \"Strongly disagree\": 0}, inplace=True)\n",
    "dataset[\"D3. I am proud to tell others that I am part of this community.\"].replace({\"Strongly agree\": 0, \"Agree\": 1, \"Neither disagree nor agree\": 2, \"Disagree\": 3, \"Strongly disagree\": 4}, inplace=True)\n",
    "dataset[\"D4. It would take very little change in my present circumstances to cause me to leave the community.\"].replace({\"Strongly agree\": 4, \"Agree\": 3, \"Neither disagree nor agree\": 2, \"Disagree\": 1, \"Strongly disagree\": 0}, inplace=True)\n",
    "dataset[\"D5. There's not too much to be gained by sticking with this community indefinitely.\"].replace({\"Strongly agree\": 4, \"Agree\": 3, \"Neither disagree nor agree\": 2, \"Disagree\": 1, \"Strongly disagree\": 0}, inplace=True)\n",
    "dataset[\"D6. I really care about the fate of this community.\"].replace({\"Strongly agree\": 0, \"Agree\": 1, \"Neither disagree nor agree\": 2, \"Disagree\": 3, \"Strongly disagree\": 4}, inplace=True)\n",
    "dataset[\"D7. For me this is the best of all possible communities to participate in.\"].replace({\"Strongly agree\": 0, \"Agree\": 1, \"Neither disagree nor agree\": 2, \"Disagree\": 3, \"Strongly disagree\": 4}, inplace=True)\n",
    "dataset[\"D8. I plan to participate in this community in the future.\"].replace({\"Strongly agree\": 0, \"Agree\": 1, \"Neither disagree nor agree\": 2, \"Disagree\": 3, \"Strongly disagree\": 4}, inplace=True)\n",
    "dataset[\"D9. I will recommend that others participate in this community.\"].replace({\"Strongly agree\": 0, \"Agree\": 1, \"Neither disagree nor agree\": 2, \"Disagree\": 3, \"Strongly disagree\": 4}, inplace=True)\n",
    "dataset[\"D10. I will tell others about the positive experiences that I had participating in this community.\"].replace({\"Strongly agree\": 0, \"Agree\": 1, \"Neither disagree nor agree\": 2, \"Disagree\": 3, \"Strongly disagree\": 4}, inplace=True)\n",
    "dataset[\"E1. I hope that participation in this community is a part of my life for years to come.\"].replace({\"Strongly agree\": 0, \"Agree\": 1, \"Neither disagree nor agree\": 2, \"Disagree\": 3, \"Strongly disagree\": 4}, inplace=True)\n",
    "dataset[\"E2. I am more motivated to participate because of my recent contribution experience with this community.\"].replace({\"Strongly agree\": 0, \"Agree\": 1, \"Neither disagree nor agree\": 2, \"Disagree\": 3, \"Strongly disagree\": 4}, inplace=True)\n",
    "dataset[\"E3. I care about the Perl/Raku community.\"].replace({\"Strongly agree\": 0, \"Agree\": 1, \"Neither disagree nor agree\": 2, \"Disagree\": 3, \"Strongly disagree\": 4}, inplace=True)\n",
    "dataset[\"E4. I want to be recognized for my contributions.\"].replace({\"Strongly agree\": 0, \"Agree\": 1, \"Neither disagree nor agree\": 2, \"Disagree\": 3, \"Strongly disagree\": 4}, inplace=True)\n",
    "dataset[\"E5. I want to receive a tangible acknowledgment of my contributions.\"].replace({\"Strongly agree\": 0, \"Agree\": 1, \"Neither disagree nor agree\": 2, \"Disagree\": 3, \"Strongly disagree\": 4}, inplace=True)\n",
    "dataset[\"E6. I participate to get a reputation in the free/open source developers' scene, or within the Perl/Raku community.\"].replace({\"Strongly agree\": 0, \"Agree\": 1, \"Neither disagree nor agree\": 2, \"Disagree\": 3, \"Strongly disagree\": 4}, inplace=True)\n",
    "dataset[\"E7. I participate to improve my job opportunities.\"].replace({\"Strongly agree\": 0, \"Agree\": 1, \"Neither disagree nor agree\": 2, \"Disagree\": 3, \"Strongly disagree\": 4}, inplace=True)\n",
    "dataset[\"E8. I participate to make money.\"].replace({\"Strongly agree\": 0, \"Agree\": 1, \"Neither disagree nor agree\": 2, \"Disagree\": 3, \"Strongly disagree\": 4}, inplace=True)\n",
    "dataset[\"E9 I participate to learn and develop new skills.\"].replace({\"Strongly agree\": 0, \"Agree\": 1, \"Neither disagree nor agree\": 2, \"Disagree\": 3, \"Strongly disagree\": 4}, inplace=True)\n",
    "#print (dataset)"
   ]
  },
  {
   "cell_type": "code",
   "execution_count": 3,
   "id": "dd8f7eda",
   "metadata": {},
   "outputs": [
    {
     "name": "stdout",
     "output_type": "stream",
     "text": [
      "1621.760726142384\n",
      "1.4080145377517872e-88\n"
     ]
    }
   ],
   "source": [
    "chi_square_value,p_value=calculate_bartlett_sphericity(dataset)\n",
    "print(chi_square_value)\n",
    "print(p_value)"
   ]
  },
  {
   "cell_type": "code",
   "execution_count": 4,
   "id": "080c6a2a",
   "metadata": {},
   "outputs": [
    {
     "name": "stdout",
     "output_type": "stream",
     "text": [
      "0.7039241508072885\n"
     ]
    }
   ],
   "source": [
    "kmo_all,kmo_model=calculate_kmo(dataset)\n",
    "print(kmo_model)"
   ]
  },
  {
   "cell_type": "code",
   "execution_count": 5,
   "id": "21bf0124",
   "metadata": {},
   "outputs": [],
   "source": [
    "dataset_uc=pd.read_excel('A:/Aadharsh/University of Calgary/Research Project/survey_responses.xlsx')\n",
    "#Age\n",
    "dataset_uc_age=dataset_uc['F1. What is your year of birth?']\n",
    "dataset_uc_age = dataset_uc_age[dataset_uc_age.notnull()]\n",
    "dataset_uc_age = dataset_uc_age[dataset_uc_age != 0]\n",
    "#Gender\n",
    "dataset_uc_gender=dataset_uc['F2. Which of the following describes how you think of yourself?']\n",
    "dataset_uc_gender = dataset_uc_gender[dataset_uc_gender.notnull()]\n",
    "#Education\n",
    "dataset_uc_edu=dataset_uc['F3. What is your highest education level?']\n",
    "dataset_uc_edu = dataset_uc_edu[dataset_uc_edu.notnull()]\n",
    "#Contribution Type\n",
    "dataset_uc_con=dataset_uc['B1. Please select the area where your main contributions are:']\n",
    "dataset_uc_con = dataset_uc_con[dataset_uc_con.notnull()]\n",
    "#dataset_uc_con.to_excel('uc_con.xlsx')\n",
    "#print(dataset_uc_con)"
   ]
  },
  {
   "cell_type": "code",
   "execution_count": 6,
   "id": "43c8f21c",
   "metadata": {},
   "outputs": [
    {
     "name": "stdout",
     "output_type": "stream",
     "text": [
      "Mean Age= 1971.2289156626507\n",
      "Male Percentage= 87.20930232558139\n",
      "Female Percentage= 4.651162790697675\n",
      "Other Percentage= 8.13953488372093\n",
      "University Percentage= 84.88372093023256\n",
      "High School Percentage= 5.813953488372093\n",
      "Trade School Percentage= 9.30232558139535\n",
      "Code, Programming Percentage= 40.909090909090914\n",
      "Other contributions Percentage= 25.0\n",
      "Both Percentage= 34.090909090909086\n"
     ]
    }
   ],
   "source": [
    "#Age\n",
    "dataset_uc_age_mean=dataset_uc_age.mean()\n",
    "print('Mean Age=',dataset_uc_age_mean)\n",
    "#Gender\n",
    "dataset_uc_gender_male=0\n",
    "dataset_uc_gender_female=0\n",
    "dataset_uc_gender_other=0\n",
    "for i in dataset_uc_gender:\n",
    "    if i == 'Male':\n",
    "        dataset_uc_gender_male+=1\n",
    "    if i == 'Female':\n",
    "        dataset_uc_gender_female+=1\n",
    "    if i == 'Other':\n",
    "        dataset_uc_gender_other+=1\n",
    "print('Male Percentage=',(dataset_uc_gender_male/86)*100)\n",
    "print('Female Percentage=',(dataset_uc_gender_female/86)*100)\n",
    "print('Other Percentage=',(dataset_uc_gender_other/86)*100)\n",
    "#Education\n",
    "dataset_uc_edu_uni=0\n",
    "dataset_uc_edu_high=0\n",
    "dataset_uc_edu_trade=0\n",
    "for i in dataset_uc_edu:\n",
    "    if i == 'University/college':\n",
    "        dataset_uc_edu_uni+=1\n",
    "    if i == 'High school':\n",
    "        dataset_uc_edu_high+=1\n",
    "    if i == 'Technical/trade':\n",
    "        dataset_uc_edu_trade+=1\n",
    "print('University Percentage=',(dataset_uc_edu_uni/86)*100)\n",
    "print('High School Percentage=',(dataset_uc_edu_high/86)*100)\n",
    "print('Trade School Percentage=',(dataset_uc_edu_trade/86)*100)\n",
    "#Contribution Type\n",
    "dataset_uc_con_code=0\n",
    "dataset_uc_con_other=0\n",
    "dataset_uc_con_both=0\n",
    "for i in dataset_uc_con:\n",
    "    if i == 'Code, Programming':\n",
    "        dataset_uc_con_code+=1\n",
    "    if i == 'Other contributions (documentation, translations, tests, artwork...)':\n",
    "        dataset_uc_con_other+=1\n",
    "    if i == 'Both':\n",
    "        dataset_uc_con_both+=1\n",
    "print('Code, Programming Percentage=',(dataset_uc_con_code/88)*100)\n",
    "print('Other contributions Percentage=',(dataset_uc_con_other/88)*100)\n",
    "print('Both Percentage=',(dataset_uc_con_both/88)*100)"
   ]
  },
  {
   "cell_type": "code",
   "execution_count": 7,
   "id": "e07f95dc",
   "metadata": {},
   "outputs": [],
   "source": [
    "dataset_os=pd.read_csv('A:/Aadharsh/University of Calgary/Research Project/os17.csv')\n",
    "#Age OS\n",
    "dataset_os_age=dataset_os['AGE']\n",
    "dataset_os_age = dataset_os_age[dataset_os_age.notnull()]\n",
    "dataset_os_age = dataset_os_age[dataset_os_age != 'NA']\n",
    "dataset_os_age.replace({'17 or younger' : 2000, '18 to 24 years': 1996, '25 to 34 years': 1988, '35 to 44 years': 1978, '45 to 54 years': 1968, '55 to 64 years': 1958, '65 years or older': 1953},inplace=True)\n",
    "#Gender OS\n",
    "dataset_os_gender=dataset_os['GENDER']\n",
    "dataset_os_gender = dataset_os_gender[dataset_os_gender.notnull()]\n",
    "dataset_os_gender = dataset_os_gender[dataset_os_gender != 'Prefer not to say']\n",
    "#Education OS\n",
    "dataset_os_edu=dataset_os['FORMAL.EDUCATION']\n",
    "dataset_os_edu = dataset_os_edu[dataset_os_edu.notnull()]\n",
    "#dataset_os_edu.to_excel('os_edu.xlsx')\n",
    "#print(dataset_os_edu)"
   ]
  },
  {
   "cell_type": "code",
   "execution_count": 8,
   "id": "1fdd938d",
   "metadata": {},
   "outputs": [
    {
     "name": "stderr",
     "output_type": "stream",
     "text": [
      "C:\\Users\\aadha\\anaconda3\\lib\\site-packages\\IPython\\core\\interactiveshell.py:3441: DtypeWarning: Columns (43,48,49) have mixed types.Specify dtype option on import or set low_memory=False.\n",
      "  exec(code_obj, self.user_global_ns, self.user_ns)\n"
     ]
    }
   ],
   "source": [
    "dataset_floss=pd.read_csv('A:/Aadharsh/University of Calgary/Research Project/floss13.csv')\n",
    "#Age FLOSS\n",
    "dataset_floss_age = dataset_floss['Q0022']\n",
    "dataset_floss_age = dataset_floss_age[dataset_floss_age.notnull()]\n",
    "dataset_floss_age = dataset_floss_age[dataset_floss_age != 'NA']\n",
    "dataset_floss_age.replace({'10 or younger' : '10', '55 or older': '55' },inplace=True)\n",
    "dataset_floss_age = dataset_floss_age.astype(int)\n",
    "dataset_floss_age = 2013 - dataset_floss_age\n",
    "#Gender FLOSS\n",
    "dataset_floss_gender=dataset_floss['Q0004']\n",
    "dataset_floss_gender = dataset_floss_gender[dataset_floss_gender.notnull()]\n",
    "dataset_floss_gender = dataset_floss_gender[dataset_floss_gender != 'NA']\n",
    "#Education FLOSS\n",
    "dataset_floss_edu=dataset_floss['Q0011']\n",
    "dataset_floss_edu = dataset_floss_edu[dataset_floss_edu.notnull()]\n",
    "dataset_floss_edu = dataset_floss_edu[dataset_floss_edu != 'NA']\n",
    "#Contribution FLOSS\n",
    "dataset_floss_con=dataset_floss['Q0002']\n",
    "dataset_floss_con = dataset_floss_con[dataset_floss_con.notnull()]\n",
    "dataset_floss_con = dataset_floss_con[dataset_floss_con != 'NA']\n",
    "#dataset_floss_con.to_excel('floss_con.xlsx')\n",
    "#print(dataset_floss_con)"
   ]
  },
  {
   "cell_type": "code",
   "execution_count": 9,
   "id": "54b3badc",
   "metadata": {},
   "outputs": [
    {
     "name": "stdout",
     "output_type": "stream",
     "text": [
      "Welsh Two Sample t-test for age with OS dataset:\n"
     ]
    },
    {
     "data": {
      "text/plain": [
       "Ttest_indResult(statistic=-13.03587987915467, pvalue=4.509088279383657e-22)"
      ]
     },
     "execution_count": 9,
     "metadata": {},
     "output_type": "execute_result"
    }
   ],
   "source": [
    "print('Welsh Two Sample t-test for age with OS dataset:')\n",
    "stats.ttest_ind(dataset_uc_age, dataset_os_age, equal_var = False)"
   ]
  },
  {
   "cell_type": "code",
   "execution_count": 10,
   "id": "cacb0590",
   "metadata": {},
   "outputs": [
    {
     "name": "stdout",
     "output_type": "stream",
     "text": [
      "Welsh Two Sample t-test for age with FLOSS dataset:\n"
     ]
    },
    {
     "data": {
      "text/plain": [
       "Ttest_indResult(statistic=-15.285593880054503, pvalue=2.059779425414094e-26)"
      ]
     },
     "execution_count": 10,
     "metadata": {},
     "output_type": "execute_result"
    }
   ],
   "source": [
    "print('Welsh Two Sample t-test for age with FLOSS dataset:')\n",
    "stats.ttest_ind(dataset_uc_age, dataset_floss_age, equal_var = False)"
   ]
  },
  {
   "cell_type": "code",
   "execution_count": 11,
   "id": "2121f420",
   "metadata": {},
   "outputs": [
    {
     "name": "stdout",
     "output_type": "stream",
     "text": [
      "Chi-Squared Test for gender with OS dataset p value:\n",
      "0.9202991687228445\n",
      "Chi-Squared Test for education with OS dataset p value:\n",
      "0.6314207860909293\n"
     ]
    }
   ],
   "source": [
    "#Gender\n",
    "print('Chi-Squared Test for gender with OS dataset p value:')\n",
    "dataset_os_gender.replace({'Man' : 'Male', 'Woman': 'Female', 'Non-binary  or Other': 'Other'},inplace=True)\n",
    "frames_gender = [dataset_os_gender, dataset_uc_gender ]\n",
    "result_gender = pd.concat(frames_gender,axis=1)\n",
    "#print(result_gender)\n",
    "contigency_gender= pd.crosstab(result_gender['F2. Which of the following describes how you think of yourself?'],result_gender['GENDER'])\n",
    "#print(contigency_gender)\n",
    "stat, p, dof, expected = chi2_contingency(contigency_gender)\n",
    "print(p)\n",
    "#Education\n",
    "print('Chi-Squared Test for education with OS dataset p value:')\n",
    "frames_edu = [dataset_os_edu, dataset_uc_edu ]\n",
    "result_edu = pd.concat(frames_edu,axis=1)\n",
    "#print(result_edu)\n",
    "contigency_edu= pd.crosstab(result_edu['F3. What is your highest education level?'],result_edu['FORMAL.EDUCATION'])\n",
    "#print(contigency_edu)\n",
    "stat, p, dof, expected = chi2_contingency(contigency_edu)\n",
    "print(p)"
   ]
  },
  {
   "cell_type": "code",
   "execution_count": 12,
   "id": "b82928d9",
   "metadata": {},
   "outputs": [
    {
     "name": "stdout",
     "output_type": "stream",
     "text": [
      "Chi-Squared Test for gender with FLOSS dataset p value:\n",
      "0.42415681801686367\n",
      "Chi-Squared Test for education with FLOSS dataset p value:\n",
      "0.7601901560021874\n",
      "Chi-Squared Test for Contribution with FLOSS dataset p value:\n",
      "0.8984853932689293\n"
     ]
    }
   ],
   "source": [
    "#Gender\n",
    "print('Chi-Squared Test for gender with FLOSS dataset p value:')\n",
    "frames_gender = [dataset_floss_gender, dataset_uc_gender ]\n",
    "result_gender = pd.concat(frames_gender,axis=1)\n",
    "#print(result_gender)\n",
    "contigency_gender= pd.crosstab(result_gender['F2. Which of the following describes how you think of yourself?'],result_gender['Q0004'])\n",
    "#print(contigency_gender)\n",
    "stat, p, dof, expected = chi2_contingency(contigency_gender)\n",
    "print(p)\n",
    "#Education\n",
    "print('Chi-Squared Test for education with FLOSS dataset p value:')\n",
    "frames_edu = [dataset_floss_edu, dataset_uc_edu ]\n",
    "result_edu = pd.concat(frames_edu,axis=1)\n",
    "#print(result_edu)\n",
    "contigency_edu= pd.crosstab(result_edu['F3. What is your highest education level?'],result_edu['Q0011'])\n",
    "#print(contigency_edu)\n",
    "stat, p, dof, expected = chi2_contingency(contigency_edu)\n",
    "print(p)\n",
    "#Contribution\n",
    "print('Chi-Squared Test for Contribution with FLOSS dataset p value:')\n",
    "frames_con = [dataset_floss_con, dataset_uc_con ]\n",
    "result_con = pd.concat(frames_con,axis=1)\n",
    "#print(result_con)\n",
    "contigency_con= pd.crosstab(result_con['B1. Please select the area where your main contributions are:'],result_con['Q0002'])\n",
    "#print(contigency_con)\n",
    "stat, p, dof, expected = chi2_contingency(contigency_con)\n",
    "print(p)"
   ]
  },
  {
   "cell_type": "code",
   "execution_count": 13,
   "id": "341f30ff",
   "metadata": {},
   "outputs": [
    {
     "name": "stdout",
     "output_type": "stream",
     "text": [
      "Chi-Squared Test for contribution type and age with dataset p value:\n",
      "0.5549242505276287\n",
      "Chi-Squared Test for contribution type and hours contributed with dataset p value:\n",
      "0.40825776631584604\n",
      "Chi-Squared Test for contribution type and episodic projects contributed with dataset p value:\n",
      "0.43801820022213916\n",
      "Chi-Squared Test for contribution type and regular projects contributed with dataset p value:\n",
      "0.5943666374120284\n",
      "Chi-Squared Test for contribution type and age with dataset p value:\n",
      "0.20776658433352901\n"
     ]
    }
   ],
   "source": [
    "print('Chi-Squared Test for contribution type and age with dataset p value:')\n",
    "frames_con_age = [dataset_uc_con, dataset_uc_age]\n",
    "results_con_age = pd.concat(frames_con_age,axis=1)\n",
    "#print(results_con_age)\n",
    "contigency_con_age= pd.crosstab(results_con_age['B1. Please select the area where your main contributions are:'], results_con_age['F1. What is your year of birth?'])\n",
    "#print(contigency_con_age)\n",
    "stat, p, dof, expected = chi2_contingency(contigency_con_age)\n",
    "print(p)\n",
    "print('Chi-Squared Test for contribution type and hours contributed with dataset p value:')\n",
    "frames_con_hours = [dataset_uc_con, dataset['B3. On average, how many hours per month did you contribute to this project over the last 12 months?']]\n",
    "results_con_hours = pd.concat(frames_con_hours,axis=1)\n",
    "#print(results_con_hours)\n",
    "contigency_con_hours= pd.crosstab(results_con_hours['B1. Please select the area where your main contributions are:'], results_con_hours['B3. On average, how many hours per month did you contribute to this project over the last 12 months?'])\n",
    "#print(contigency_con_hours)\n",
    "stat, p, dof, expected = chi2_contingency(contigency_con_hours)\n",
    "print(p)\n",
    "print('Chi-Squared Test for contribution type and episodic projects contributed with dataset p value:')\n",
    "frames_con_epis = [dataset_uc_con, dataset['A3. In how many free/libre/open source software projects have you clearly been an episodic volunteer in the last 12 months?']]\n",
    "results_con_epis = pd.concat(frames_con_epis,axis=1)\n",
    "#print(results_con_epis)\n",
    "contigency_con_epis= pd.crosstab(results_con_epis['B1. Please select the area where your main contributions are:'], results_con_epis['A3. In how many free/libre/open source software projects have you clearly been an episodic volunteer in the last 12 months?'])\n",
    "#print(contigency_con_epis)\n",
    "stat, p, dof, expected = chi2_contingency(contigency_con_epis)\n",
    "print(p)\n",
    "print('Chi-Squared Test for contribution type and regular projects contributed with dataset p value:')\n",
    "frames_con_reg = [dataset_uc_con, dataset['A2. In how many free/libre/open source software projects have you clearly been a habitual volunteer in the last 12 months?']]\n",
    "results_con_reg = pd.concat(frames_con_reg,axis=1)\n",
    "#print(results_con_reg)\n",
    "contigency_con_reg= pd.crosstab(results_con_reg['B1. Please select the area where your main contributions are:'], results_con_reg['A2. In how many free/libre/open source software projects have you clearly been a habitual volunteer in the last 12 months?'])\n",
    "#print(contigency_con_reg)\n",
    "stat, p, dof, expected = chi2_contingency(contigency_con_reg)\n",
    "print(p)\n",
    "print('Chi-Squared Test for contribution type and age with dataset p value:')\n",
    "frames_con_gender = [dataset_uc_con, dataset_uc_gender]\n",
    "results_con_gender = pd.concat(frames_con_gender,axis=1)\n",
    "#print(results_con_gender)\n",
    "contigency_con_gender= pd.crosstab(results_con_gender['B1. Please select the area where your main contributions are:'], results_con_gender['F2. Which of the following describes how you think of yourself?'])\n",
    "#print(contigency_con_gender)\n",
    "stat, p, dof, expected = chi2_contingency(contigency_con_gender)\n",
    "print(p)"
   ]
  },
  {
   "cell_type": "code",
   "execution_count": 14,
   "id": "265999de",
   "metadata": {},
   "outputs": [
    {
     "name": "stdout",
     "output_type": "stream",
     "text": [
      "Requirement already satisfied: nbconvert[webpdf] in c:\\users\\aadha\\anaconda3\\lib\\site-packages (6.1.0)\n",
      "Requirement already satisfied: entrypoints>=0.2.2 in c:\\users\\aadha\\anaconda3\\lib\\site-packages (from nbconvert[webpdf]) (0.3)\n",
      "Requirement already satisfied: jupyter-core in c:\\users\\aadha\\anaconda3\\lib\\site-packages (from nbconvert[webpdf]) (4.8.1)\n",
      "Requirement already satisfied: testpath in c:\\users\\aadha\\anaconda3\\lib\\site-packages (from nbconvert[webpdf]) (0.5.0)\n",
      "Requirement already satisfied: nbclient<0.6.0,>=0.5.0 in c:\\users\\aadha\\anaconda3\\lib\\site-packages (from nbconvert[webpdf]) (0.5.3)\n",
      "Requirement already satisfied: nbformat>=4.4 in c:\\users\\aadha\\anaconda3\\lib\\site-packages (from nbconvert[webpdf]) (5.1.3)\n",
      "Requirement already satisfied: jinja2>=2.4 in c:\\users\\aadha\\anaconda3\\lib\\site-packages (from nbconvert[webpdf]) (2.11.3)\n",
      "Requirement already satisfied: defusedxml in c:\\users\\aadha\\anaconda3\\lib\\site-packages (from nbconvert[webpdf]) (0.7.1)\n",
      "Requirement already satisfied: bleach in c:\\users\\aadha\\anaconda3\\lib\\site-packages (from nbconvert[webpdf]) (4.0.0)\n",
      "Requirement already satisfied: mistune<2,>=0.8.1 in c:\\users\\aadha\\anaconda3\\lib\\site-packages (from nbconvert[webpdf]) (0.8.4)\n",
      "Requirement already satisfied: pandocfilters>=1.4.1 in c:\\users\\aadha\\anaconda3\\lib\\site-packages (from nbconvert[webpdf]) (1.4.3)\n",
      "Requirement already satisfied: traitlets>=5.0 in c:\\users\\aadha\\anaconda3\\lib\\site-packages (from nbconvert[webpdf]) (5.1.0)\n",
      "Requirement already satisfied: jupyterlab-pygments in c:\\users\\aadha\\anaconda3\\lib\\site-packages (from nbconvert[webpdf]) (0.1.2)\n",
      "Requirement already satisfied: pygments>=2.4.1 in c:\\users\\aadha\\anaconda3\\lib\\site-packages (from nbconvert[webpdf]) (2.10.0)\n",
      "Collecting pyppeteer==0.2.2Note: you may need to restart the kernel to use updated packages.\n",
      "  Downloading pyppeteer-0.2.2-py3-none-any.whl (145 kB)\n",
      "Requirement already satisfied: urllib3<2.0.0,>=1.25.8 in c:\\users\\aadha\\anaconda3\\lib\\site-packages (from pyppeteer==0.2.2->nbconvert[webpdf]) (1.26.7)\n",
      "Collecting pyee<8.0.0,>=7.0.1\n",
      "  Downloading pyee-7.0.4-py2.py3-none-any.whl (12 kB)\n",
      "Requirement already satisfied: tqdm<5.0.0,>=4.42.1 in c:\\users\\aadha\\anaconda3\\lib\\site-packages (from pyppeteer==0.2.2->nbconvert[webpdf]) (4.62.2)\n",
      "Collecting websockets<9.0,>=8.1\n",
      "  Downloading websockets-8.1-cp38-cp38-win_amd64.whl (66 kB)\n",
      "Requirement already satisfied: appdirs<2.0.0,>=1.4.3 in c:\\users\\aadha\\anaconda3\\lib\\site-packages (from pyppeteer==0.2.2->nbconvert[webpdf]) (1.4.4)\n",
      "\n",
      "Requirement already satisfied: MarkupSafe>=0.23 in c:\\users\\aadha\\anaconda3\\lib\\site-packages (from jinja2>=2.4->nbconvert[webpdf]) (2.0.1)\n",
      "Requirement already satisfied: nest-asyncio in c:\\users\\aadha\\anaconda3\\lib\\site-packages (from nbclient<0.6.0,>=0.5.0->nbconvert[webpdf]) (1.5.1)\n",
      "Requirement already satisfied: async-generator in c:\\users\\aadha\\anaconda3\\lib\\site-packages (from nbclient<0.6.0,>=0.5.0->nbconvert[webpdf]) (1.10)\n",
      "Requirement already satisfied: jupyter-client>=6.1.5 in c:\\users\\aadha\\anaconda3\\lib\\site-packages (from nbclient<0.6.0,>=0.5.0->nbconvert[webpdf]) (7.0.1)\n",
      "Requirement already satisfied: python-dateutil>=2.1 in c:\\users\\aadha\\anaconda3\\lib\\site-packages (from jupyter-client>=6.1.5->nbclient<0.6.0,>=0.5.0->nbconvert[webpdf]) (2.8.2)\n",
      "Requirement already satisfied: pyzmq>=13 in c:\\users\\aadha\\anaconda3\\lib\\site-packages (from jupyter-client>=6.1.5->nbclient<0.6.0,>=0.5.0->nbconvert[webpdf]) (22.2.1)\n",
      "Requirement already satisfied: tornado>=4.1 in c:\\users\\aadha\\anaconda3\\lib\\site-packages (from jupyter-client>=6.1.5->nbclient<0.6.0,>=0.5.0->nbconvert[webpdf]) (6.1)\n",
      "Requirement already satisfied: pywin32>=1.0 in c:\\users\\aadha\\anaconda3\\lib\\site-packages (from jupyter-core->nbconvert[webpdf]) (228)\n",
      "Requirement already satisfied: jsonschema!=2.5.0,>=2.4 in c:\\users\\aadha\\anaconda3\\lib\\site-packages (from nbformat>=4.4->nbconvert[webpdf]) (3.2.0)\n",
      "Requirement already satisfied: ipython-genutils in c:\\users\\aadha\\anaconda3\\lib\\site-packages (from nbformat>=4.4->nbconvert[webpdf]) (0.2.0)\n",
      "Requirement already satisfied: attrs>=17.4.0 in c:\\users\\aadha\\anaconda3\\lib\\site-packages (from jsonschema!=2.5.0,>=2.4->nbformat>=4.4->nbconvert[webpdf]) (21.2.0)\n",
      "Requirement already satisfied: pyrsistent>=0.14.0 in c:\\users\\aadha\\anaconda3\\lib\\site-packages (from jsonschema!=2.5.0,>=2.4->nbformat>=4.4->nbconvert[webpdf]) (0.17.3)\n",
      "Requirement already satisfied: six>=1.11.0 in c:\\users\\aadha\\anaconda3\\lib\\site-packages (from jsonschema!=2.5.0,>=2.4->nbformat>=4.4->nbconvert[webpdf]) (1.16.0)\n",
      "Requirement already satisfied: setuptools in c:\\users\\aadha\\anaconda3\\lib\\site-packages (from jsonschema!=2.5.0,>=2.4->nbformat>=4.4->nbconvert[webpdf]) (58.0.4)\n",
      "Requirement already satisfied: colorama in c:\\users\\aadha\\anaconda3\\lib\\site-packages (from tqdm<5.0.0,>=4.42.1->pyppeteer==0.2.2->nbconvert[webpdf]) (0.4.4)\n",
      "Requirement already satisfied: packaging in c:\\users\\aadha\\anaconda3\\lib\\site-packages (from bleach->nbconvert[webpdf]) (21.0)\n",
      "Requirement already satisfied: webencodings in c:\\users\\aadha\\anaconda3\\lib\\site-packages (from bleach->nbconvert[webpdf]) (0.5.1)\n",
      "Requirement already satisfied: pyparsing>=2.0.2 in c:\\users\\aadha\\anaconda3\\lib\\site-packages (from packaging->bleach->nbconvert[webpdf]) (2.4.7)\n",
      "Installing collected packages: websockets, pyee, pyppeteer\n",
      "Successfully installed pyee-7.0.4 pyppeteer-0.2.2 websockets-8.1\n"
     ]
    }
   ],
   "source": [
    "pip install nbconvert[webpdf]"
   ]
  },
  {
   "cell_type": "code",
   "execution_count": 20,
   "id": "3397230f",
   "metadata": {},
   "outputs": [
    {
     "name": "stdout",
     "output_type": "stream",
     "text": [
      "Note: you may need to restart the kernel to use updated packages.\n"
     ]
    },
    {
     "name": "stderr",
     "output_type": "stream",
     "text": [
      "ERROR: Could not find a version that satisfies the requirement MikTex\n",
      "ERROR: No matching distribution found for MikTex\n"
     ]
    }
   ],
   "source": []
  },
  {
   "cell_type": "code",
   "execution_count": null,
   "id": "e67f0b9f",
   "metadata": {},
   "outputs": [],
   "source": []
  }
 ],
 "metadata": {
  "kernelspec": {
   "display_name": "Python 3 (ipykernel)",
   "language": "python",
   "name": "python3"
  },
  "language_info": {
   "codemirror_mode": {
    "name": "ipython",
    "version": 3
   },
   "file_extension": ".py",
   "mimetype": "text/x-python",
   "name": "python",
   "nbconvert_exporter": "python",
   "pygments_lexer": "ipython3",
   "version": "3.8.12"
  }
 },
 "nbformat": 4,
 "nbformat_minor": 5
}
